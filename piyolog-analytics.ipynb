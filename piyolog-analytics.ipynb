{
 "metadata": {
  "language_info": {
   "codemirror_mode": {
    "name": "ipython",
    "version": 3
   },
   "file_extension": ".py",
   "mimetype": "text/x-python",
   "name": "python",
   "nbconvert_exporter": "python",
   "pygments_lexer": "ipython3",
   "version": "3.6.8-final"
  },
  "orig_nbformat": 2,
  "kernelspec": {
   "name": "python3",
   "display_name": "Python 3",
   "language": "python"
  }
 },
 "nbformat": 4,
 "nbformat_minor": 2,
 "cells": [
  {
   "source": [
    "# ぴよログデータ分析"
   ],
   "cell_type": "markdown",
   "metadata": {}
  },
  {
   "cell_type": "code",
   "execution_count": null,
   "metadata": {},
   "outputs": [],
   "source": [
    "import pandas as pd\n",
    "import numpy as np\n",
    "import re\n",
    "import datetime\n",
    "from datetime import timedelta\n",
    "from dateutil.relativedelta import relativedelta\n",
    "import os"
   ]
  },
  {
   "cell_type": "code",
   "execution_count": null,
   "metadata": {},
   "outputs": [],
   "source": [
    "# 誕生日\n",
    "birth_date = datetime.datetime(2020, 1, 1)"
   ]
  },
  {
   "source": [
    "## データ読込"
   ],
   "cell_type": "markdown",
   "metadata": {}
  },
  {
   "cell_type": "code",
   "execution_count": null,
   "metadata": {},
   "outputs": [],
   "source": [
    "# データ読込\n",
    "path = './data'\n",
    "files = os.listdir(path)\n",
    "month_texts = []\n",
    "for filename in files:\n",
    "    f = open(f'{path}/{filename}', encoding='utf_8')\n",
    "    data = f.read()\n",
    "    month_texts.append(data)\n",
    "    f.close()"
   ]
  },
  {
   "cell_type": "code",
   "execution_count": null,
   "metadata": {},
   "outputs": [],
   "source": [
    "# 対象項目\n",
    "def check_item(text):\n",
    "    if re.findall('起きる|寝る|母乳|ミルク|離乳食|搾母乳', text) and re.match(r'([01][0-9]|2[0-3]):[0-5][0-9]', text):\n",
    "        return True\n",
    "    return False"
   ]
  },
  {
   "cell_type": "code",
   "execution_count": null,
   "metadata": {},
   "outputs": [],
   "source": [
    "# 対象データをリスト化\n",
    "def get_piyolog_all_items(month_texts):\n",
    "    all_items = []\n",
    "\n",
    "    for month_text in month_texts:\n",
    "        # 改行で分割\n",
    "        lines = month_text.splitlines()\n",
    "        array = np.array(lines)\n",
    "\n",
    "        for index, item in enumerate(array):\n",
    "            # 日付取得\n",
    "            if item == '----------' and index < len(array) - 1:\n",
    "                day = array[index + 1][:-3]\n",
    "                day_date = datetime.datetime.strptime(day, '%Y/%m/%d')\n",
    "\n",
    "            # 対象項目の場合\n",
    "            if item != '' and check_item(item):\n",
    "                # 空白で分割\n",
    "                record = item.split()\n",
    "\n",
    "                record_dt = datetime.datetime.strptime(day + ' ' + record[0], '%Y/%m/%d %H:%M')\n",
    "                record_type = None\n",
    "                record_subtype = record[1]\n",
    "                record_value = None\n",
    "                record_timespan = None\n",
    "\n",
    "                if '寝る' in record_subtype:\n",
    "                    record_type = '睡眠'\n",
    "\n",
    "                if '起きる' in record_subtype:\n",
    "                    record_type = '睡眠'\n",
    "\n",
    "                if 'ミルク' in record_subtype or '搾母乳' in record_subtype:\n",
    "                    record_type = '食事'\n",
    "                    # 搾母乳も項目名はミルクにする\n",
    "                    record_subtype = 'ミルク'\n",
    "                    # 時間は10分固定にする\n",
    "                    record_timespan = 10\n",
    "                    # ミルク量\n",
    "                    record_value = int(record[2].replace('ml', ''))\n",
    "\n",
    "                if '母乳' in record_subtype:\n",
    "                    record_type = '食事'\n",
    "                    record_time = 0\n",
    "                    # 授乳時間の合計を計算する\n",
    "                    for r in record[2:]:\n",
    "                        if '分' in r:\n",
    "                            record_time += int(r.replace('分',''))\n",
    "                    record_timespan = record_time\n",
    "                            \n",
    "                # 記録\n",
    "                all_items.append([day_date, record_dt, record_type, record_subtype, record_timespan, record_value])\n",
    "\n",
    "    return all_items"
   ]
  },
  {
   "cell_type": "code",
   "execution_count": null,
   "metadata": {
    "tags": []
   },
   "outputs": [],
   "source": [
    "df = pd.DataFrame(get_piyolog_all_items(month_texts),columns=['日付', '日時','分類','項目','時間','ミルク量'])"
   ]
  },
  {
   "cell_type": "code",
   "execution_count": null,
   "metadata": {},
   "outputs": [],
   "source": [
    "df.head()"
   ]
  },
  {
   "source": [
    "## データ加工"
   ],
   "cell_type": "markdown",
   "metadata": {}
  },
  {
   "cell_type": "code",
   "execution_count": null,
   "metadata": {},
   "outputs": [],
   "source": [
    "# 睡眠時間\n",
    "s_sleep_timespan = df.query('分類==\"睡眠\"').sort_values('日時', ascending=False).日時.diff() * -1\n",
    "s_sleep_timespan.name = '睡眠時間'\n",
    "df = pd.concat([df, s_sleep_timespan], axis=1)"
   ]
  },
  {
   "cell_type": "code",
   "execution_count": null,
   "metadata": {},
   "outputs": [],
   "source": [
    "# 睡眠時間(timedelta)を分に直す\n",
    "def sleeptime_to_minutes(x):\n",
    "    return x.睡眠時間.seconds / 60\n",
    "df[\"睡眠時間\"] = df.apply(lambda x:sleeptime_to_minutes(x),axis=1)"
   ]
  },
  {
   "cell_type": "code",
   "execution_count": null,
   "metadata": {},
   "outputs": [],
   "source": [
    "# 時間帯\n",
    "def replace_time_zone(x):\n",
    "    # 7:00～19:00の間に寝たものは昼寝とする\n",
    "    if x.日時.hour >= 7 and x.日時.hour <= 18:\n",
    "        return '昼'\n",
    "    else:\n",
    "        return '夜'\n",
    "        \n",
    "df['時間帯'] = df.apply(lambda x:replace_time_zone(x),axis=1)"
   ]
  },
  {
   "cell_type": "code",
   "execution_count": null,
   "metadata": {},
   "outputs": [],
   "source": [
    "# 月齢\n",
    "month_old_list = []\n",
    "for i in range(0,10):\n",
    "    month_old_list.append([birth_date + relativedelta(months=i+1),i])\n",
    "    \n",
    "def replace_month_old(x):\n",
    "    for month_old in month_old_list:\n",
    "        if x.日付 < month_old[0]:\n",
    "            return month_old[1]\n",
    "        \n",
    "df['月齢'] = df.apply(lambda x:replace_month_old(x),axis=1)"
   ]
  },
  {
   "cell_type": "code",
   "execution_count": null,
   "metadata": {},
   "outputs": [],
   "source": [
    "df.head()"
   ]
  },
  {
   "source": [
    "## 1日単位の集計"
   ],
   "cell_type": "markdown",
   "metadata": {}
  },
  {
   "cell_type": "code",
   "execution_count": null,
   "metadata": {},
   "outputs": [],
   "source": [
    "# 1日の夜に起きている回数・時間\n",
    "df_night_wakeup = df.query('項目==\"起きる\" and 時間帯==\"夜\"').groupby('日付').agg({'日時':'count', '睡眠時間':'sum'}).reset_index()\n",
    "df_night_wakeup.columns = ['日付','夜に起きる回数','夜に起きている時間']"
   ]
  },
  {
   "cell_type": "code",
   "execution_count": null,
   "metadata": {},
   "outputs": [],
   "source": [
    "# 1日の昼寝回数\n",
    "df_nap = df.query('項目==\"寝る\" and 時間帯==\"昼\"').groupby('日付').agg({'日時':'count', '睡眠時間':'sum'}).reset_index()\n",
    "df_nap.columns = ['日付','昼寝回数', '昼寝時間']"
   ]
  },
  {
   "cell_type": "code",
   "execution_count": null,
   "metadata": {},
   "outputs": [],
   "source": [
    "# 1日の食事回数\n",
    "df_milk = df.query('項目==\"ミルク\"').groupby('日付').agg({'日時':'count', 'ミルク量':'sum'}).reset_index()\n",
    "df_milk.columns = ['日付','ミルク回数', 'ミルク量']\n",
    "df_mother_milk = df.query('項目==\"母乳\"').groupby('日付').agg({'日時':'count', '時間':'sum'}).reset_index()\n",
    "df_mother_milk.columns = ['日付','授乳回数', '授乳時間']\n",
    "df_eat = df.query('項目==\"離乳食\"').groupby('日付').agg({'日時':'count', '時間':'sum'}).reset_index()\n",
    "df_eat.columns = ['日付','離乳食回数', '離乳食時間']"
   ]
  },
  {
   "cell_type": "code",
   "execution_count": null,
   "metadata": {},
   "outputs": [],
   "source": [
    "# 1日集計のdf結合\n",
    "df_groupby_day = pd.merge(df_nap, df_night_wakeup, on='日付', how='left')\n",
    "df_groupby_day = pd.merge(df_groupby_day, df_milk, on='日付', how='left')\n",
    "df_groupby_day = pd.merge(df_groupby_day, df_mother_milk, on='日付', how='left')\n",
    "df_groupby_day = pd.merge(df_groupby_day, df_eat, on='日付', how='left')"
   ]
  },
  {
   "cell_type": "code",
   "execution_count": null,
   "metadata": {},
   "outputs": [],
   "source": [
    "# 月齢列の追加\n",
    "df_groupby_day['月齢'] = df_groupby_day.apply(lambda x:replace_month_old(x),axis=1)"
   ]
  },
  {
   "cell_type": "code",
   "execution_count": null,
   "metadata": {},
   "outputs": [],
   "source": [
    "df_groupby_day.head()"
   ]
  },
  {
   "source": [
    "## 月齢別の集計"
   ],
   "cell_type": "markdown",
   "metadata": {}
  },
  {
   "cell_type": "code",
   "execution_count": null,
   "metadata": {},
   "outputs": [],
   "source": [
    "# 夜寝の1回あたりの睡眠時間\n",
    "df_night_sleep_per_event = df.query('項目==\"寝る\" and 時間帯==\"夜\"').groupby('月齢').agg({'睡眠時間':['mean','std']})\n",
    "# 昼寝の1回あたりの睡眠時間\n",
    "df_nap_per_event = df.query('項目==\"寝る\" and 時間帯==\"昼\"').groupby('月齢').agg({'睡眠時間':['mean','std']})\n",
    "# 授乳の1回あたりの時間\n",
    "df_mother_milk_per_event = df.query('項目==\"母乳\"').groupby('月齢').agg({'時間':['mean','std']})\n",
    "# ミルクの1回あたりの量\n",
    "df_milk_per_event = df.query('項目==\"ミルク\"').groupby('月齢').agg({'ミルク量':['mean','std']})\n"
   ]
  },
  {
   "cell_type": "code",
   "execution_count": null,
   "metadata": {},
   "outputs": [],
   "source": [
    "df_night_sleep_per_event.columns = pd.MultiIndex.from_arrays([['1回あたりの夜寝時間','1回あたりの夜寝時間'],['mean','std']])\n",
    "df_nap_per_event.columns = pd.MultiIndex.from_arrays([['1回あたりの昼寝時間','1回あたりの昼寝時間'],['mean','std']])\n",
    "df_mother_milk_per_event.columns = pd.MultiIndex.from_arrays([['1回あたりの授乳時間','1回あたりの授乳時間'],['mean','std']])\n",
    "df_milk_per_event.columns = pd.MultiIndex.from_arrays([['1回あたりのミルク量','1回あたりのミルク量'],['mean','std']])"
   ]
  },
  {
   "cell_type": "code",
   "execution_count": null,
   "metadata": {},
   "outputs": [],
   "source": [
    "# 1日集計のデータを月齢別に集計\n",
    "df_groupby_month = df_groupby_day.groupby('月齢').agg({'昼寝回数':['mean','std'], '昼寝時間':['mean','std'], '夜に起きる回数':['mean','std'], '夜に起きている時間':['mean','std'], 'ミルク回数':['mean','std'], 'ミルク量':['mean','std'], '授乳回数':['mean','std'], '授乳時間':['mean','std'], '離乳食回数':['mean','std']})"
   ]
  },
  {
   "cell_type": "code",
   "execution_count": null,
   "metadata": {},
   "outputs": [],
   "source": [
    "df_groupby_month = pd.merge(df_groupby_month, df_night_sleep_per_event, on='月齢', how='left')\n",
    "df_groupby_month = pd.merge(df_groupby_month, df_nap_per_event, on='月齢', how='left')\n",
    "df_groupby_month = pd.merge(df_groupby_month, df_mother_milk_per_event, on='月齢', how='left')\n",
    "df_groupby_month = pd.merge(df_groupby_month, df_milk_per_event, on='月齢', how='left')"
   ]
  },
  {
   "cell_type": "code",
   "execution_count": null,
   "metadata": {},
   "outputs": [],
   "source": [
    "pd.options.display.precision = 1\n",
    "df_groupby_month.head()"
   ]
  },
  {
   "source": [
    "## 可視化"
   ],
   "cell_type": "markdown",
   "metadata": {}
  },
  {
   "cell_type": "code",
   "execution_count": null,
   "metadata": {},
   "outputs": [],
   "source": [
    "pd.plotting.register_matplotlib_converters()\n",
    "import matplotlib as mpl\n",
    "import matplotlib.pyplot as plt\n",
    "%matplotlib inline\n",
    "import seaborn as sns"
   ]
  },
  {
   "cell_type": "code",
   "execution_count": null,
   "metadata": {},
   "outputs": [],
   "source": [
    "# 夜に起きる回数とお昼寝回数の月齢推移\n",
    "df_graph_night_wakeup_count = df_groupby_month['夜に起きる回数']['mean']\n",
    "df_graph_nap_count = df_groupby_month['昼寝回数']['mean']\n",
    "df_graph_night_wakeup_nap_count = pd.concat([df_graph_night_wakeup_count, df_graph_nap_count], axis=1)\n",
    "df_graph_night_wakeup_nap_count.columns = ['夜に起きる回数','昼寝回数']"
   ]
  },
  {
   "cell_type": "code",
   "execution_count": null,
   "metadata": {},
   "outputs": [],
   "source": [
    "# 1回あたりの睡眠時間平均の月齢推移\n",
    "df_graph_night_sleep_time_per_event = df_groupby_month['1回あたりの夜寝時間']['mean'] / 60\n",
    "df_graph_nap_time_per_event = df_groupby_month['1回あたりの昼寝時間']['mean'] / 60\n",
    "df_graph_night_sleep_nap_time_per_event = pd.concat([df_graph_night_sleep_time_per_event, df_graph_nap_time_per_event], axis=1)\n",
    "df_graph_night_sleep_nap_time_per_event.columns = ['1回あたりの夜寝時間','1回あたりの昼寝時間']"
   ]
  },
  {
   "cell_type": "code",
   "execution_count": null,
   "metadata": {},
   "outputs": [],
   "source": [
    "# 起きている時間/昼寝の月齢推移\n",
    "df_graph_night_wakeup_time = df_groupby_month['夜に起きている時間']['mean'] / 60\n",
    "df_graph_nap_time = df_groupby_month['昼寝時間']['mean'] / 60\n",
    "df_graph_night_wakeup_nap_time = pd.concat([df_graph_night_wakeup_time, df_graph_nap_time], axis=1)\n",
    "df_graph_night_wakeup_nap_time.columns = ['夜に起きている時間','昼寝時間']"
   ]
  },
  {
   "cell_type": "code",
   "execution_count": null,
   "metadata": {},
   "outputs": [],
   "source": [
    "# 食事回数の月齢推移\n",
    "df_graph_milk = df_groupby_month['ミルク回数']['mean']\n",
    "df_graph_mother_milk = df_groupby_month['授乳回数']['mean']\n",
    "df_graph_eat = df_groupby_month['離乳食回数']['mean']\n",
    "df_graph_eat_count = pd.concat([df_graph_milk, df_graph_mother_milk], axis=1)\n",
    "df_graph_eat_count = pd.concat([df_graph_eat_count, df_graph_eat], axis=1)\n",
    "df_graph_eat_count.columns = ['ミルク','授乳','離乳食']"
   ]
  },
  {
   "cell_type": "code",
   "execution_count": null,
   "metadata": {},
   "outputs": [],
   "source": [
    "# 1回あたりの授乳時間平均の月齢推移\n",
    "df_graph_mother_milk_per_event = df_groupby_month['1回あたりの授乳時間']['mean']\n",
    "# 1回あたりのミルク量平均の月齢推移\n",
    "df_graph_milk_ml_per_event = df_groupby_month['1回あたりのミルク量']['mean']"
   ]
  },
  {
   "cell_type": "code",
   "execution_count": null,
   "metadata": {},
   "outputs": [],
   "source": [
    "# ミルク量/授乳時間の月齢推移\n",
    "df_graph_milk_ml = df_groupby_month['ミルク量']['mean']\n",
    "df_graph_mother_milk_time = df_groupby_month['授乳時間']['mean'] / 60"
   ]
  },
  {
   "cell_type": "code",
   "execution_count": null,
   "metadata": {},
   "outputs": [],
   "source": [
    "fig1,(ax1, ax2, ax3)=plt.subplots(1,3,figsize=(18,5))\n",
    "ax1.set_title('夜に起きる回数とお昼寝回数の月齢推移')\n",
    "sns.lineplot(data=df_graph_night_wakeup_nap_count, ax=ax1)\n",
    "ax2.set_title('1回あたりの夜寝時間と昼寝時間の月齢推移')\n",
    "sns.lineplot(data=df_graph_night_sleep_nap_time_per_event, ax=ax2)\n",
    "ax3.set_title('夜に起きている時間と昼寝時間の月齢推移')\n",
    "sns.lineplot(data=df_graph_night_wakeup_nap_time, ax=ax3)\n",
    "\n",
    "fig2,(ax4, ax5, ax6)=plt.subplots(1,3,figsize=(18,5))\n",
    "ax4.set_title('1日のミルク回数の月齢推移')\n",
    "sns.lineplot(data=df_graph_milk, ax=ax4)\n",
    "ax5.set_title('1回あたりのミルク量の月齢推移')\n",
    "sns.lineplot(data=df_graph_milk_ml_per_event, ax=ax5)\n",
    "ax6.set_title('1日のミルク量の月齢推移')\n",
    "sns.lineplot(data=df_graph_milk_ml, ax=ax6)\n",
    "\n",
    "fig3,(ax7,ax8,ax9)=plt.subplots(1,3,figsize=(18,5))\n",
    "ax7.set_title('1日の授乳回数の月齢推移')\n",
    "sns.lineplot(data=df_graph_mother_milk, ax=ax7)\n",
    "ax8.set_title('1回あたりの授乳時間(分)の月齢推移')\n",
    "sns.lineplot(data=df_graph_mother_milk_per_event, ax=ax8)\n",
    "ax9.set_title('1日の授乳時間の月齢推移')\n",
    "sns.lineplot(data=df_graph_mother_milk_time, ax=ax9)"
   ]
  },
  {
   "source": [
    "■新生児期(0～1ヶ月)の特徴\n",
    "\n",
    "夜に起きる回数が多く、1回あたりの夜寝時間が短く、夜に起きている時間トータルも長い。  \n",
    "→夜間に何度も授乳(ミルク)が必要で親がまとまった睡眠がとれないため、夜はとても大変。\n",
    "\n",
    "一方で昼寝回数も多く、1回あたりの昼寝時間は短い。昼寝時間トータルは長いため、起きている時間は短い。  \n",
    "→昼寝時間トータルは長いが1回あたりの時間は短いため、睡眠不足で昼寝したくてもまとまって寝れないので体力的につらい。  \n",
    "起きている時間は短くベビーベッドで寝ているだけなので、ある程度目は離せる。\n",
    "\n",
    "食事の回数は多く、1回あたりのミルクの量は少ない。母乳の出が少ないため授乳時間は1回あたり・1日トータルともに長い。  \n",
    "→ほぼ一日中ミルクと授乳をしていて、体力的にもつらい。\n",
    "\n",
    "夜のつらさ　★★★★★★★  \n",
    "昼のつらさ　☆★★★★\n",
    "\n",
    "■ねんね期(2～4ヶ月)の特徴\n",
    "\n",
    "夜に起きる回数がやや減り、1回あたりの夜寝時間すこし長くなり、夜に起きている時間トータルもやや短くなる。  \n",
    "→新生児期よりはましだが、まだまだ夜間授乳が必要で睡眠不足が続く。\n",
    "\n",
    "昼寝回数はまだ多く、1回あたりの昼寝時間は短い。昼寝時間トータルは長いため、起きている時間は短い。  \n",
    "→睡眠不足だが多少は体力的にましになる。  \n",
    "起きている時間は短くベビーベッドで寝ているだけなので、引き続きある程度目は離せる。\n",
    "\n",
    "ミルクの回数はかなり減り、1回あたりのミルク量がかなり増える。授乳時間は1回あたり・1日トータルともに短くなる。  \n",
    "→1回に飲める量が多くなるため、食事回数が減ってやや楽になる。  \n",
    "\n",
    "夜のつらさ　☆★★★★  \n",
    "昼のつらさ　☆☆☆★★\n",
    "\n",
    "■寝返り・おすわり期(5～7ヶ月)\n",
    "\n",
    "夜に起きる回数が減り、1回あたりの夜寝時間が長くなり、夜に起きている時間トータルも短くなる。  \n",
    "→夜間授乳が減って親がある程度まとまった睡眠がとれるようになるため、夜はやや楽になる。\n",
    "\n",
    "昼寝回数は減るが、1回あたりの昼寝時間はあまり変わらない。昼寝時間トータルは短くなり、起きている時間が長くなる。  \n",
    "→睡眠不足が解消されるため、昼寝時間を自由時間として使えるようになる。  \n",
    "起きている時間は長くなりあやす必要があるが、移動しないで勝手に遊んでくれるので多少は目が離せる。  \n",
    "昼にリングフィットをやったりしていたので、結構余裕があった気がする。\n",
    "\n",
    "1回あたりのミルク量がやや減り、1日トータルの量が減る。授乳はあまり変わらない。  \n",
    "→離乳食がはじまるため、ミルク・授乳が減る。離乳食は準備と食べさせることに時間がかかるため、少し大変になる。  \n",
    "\n",
    "夜のつらさ　☆☆★★★  \n",
    "昼のつらさ　☆☆☆☆★\n",
    "\n",
    "■はいはい期(8～10ヶ月)\n",
    "\n",
    "夜に起きる回数がさらに減り、1回あたりの夜寝時間がさらに長くなり、夜に起きている時間トータルもさらに短くなる。  \n",
    "→夜間授乳がかなり減り親がまとまった睡眠がとれるようになるため、夜はかなり楽になる。\n",
    "\n",
    "昼寝回数はさらに減り、1回あたりの昼寝時間が長くなる。昼寝時間トータルは短くなり、起きている時間が長くなる。  \n",
    "→昼寝時間が長くなるため、ある程度まとまった自由時間ができる。  \n",
    "起きている時間はかなり長くなりあやす必要があり、はいはいで移動するので目が離せなくなってくる。  \n",
    "子守にテレビが必須になってくる。Eテレが神になる。\n",
    "\n",
    "ミルク・授乳の回数はさらに減る。  \n",
    "→離乳食の回数が増えるため、ミルク・授乳ともにさらに減る。離乳食の回数が増えるとそこそこ忙しくなる。\n",
    "\n",
    "夜のつらさ　☆☆☆☆★  \n",
    "昼のつらさ　☆☆☆★★\n"
   ],
   "cell_type": "markdown",
   "metadata": {}
  },
  {
   "cell_type": "code",
   "execution_count": null,
   "metadata": {},
   "outputs": [],
   "source": []
  }
 ]
}